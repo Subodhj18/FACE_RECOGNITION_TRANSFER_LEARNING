{
 "cells": [
  {
   "cell_type": "code",
   "execution_count": 18,
   "metadata": {},
   "outputs": [],
   "source": [
    "import cv2\n",
    "import os"
   ]
  },
  {
   "cell_type": "code",
   "execution_count": 19,
   "metadata": {},
   "outputs": [],
   "source": [
    "face_classi = cv2.CascadeClassifier('haarcascade_frontalface_default.xml')"
   ]
  },
  {
   "cell_type": "code",
   "execution_count": 22,
   "metadata": {},
   "outputs": [],
   "source": [
    "def face_extractor ( photo ) :   \n",
    "    grayphoto = cv2.cvtColor(photo,cv2.COLOR_BGR2GRAY)\n",
    "    detected = face_classi.detectMultiScale(grayphoto)\n",
    "    \n",
    "    if detected == ():\n",
    "        return None \n",
    "    else :\n",
    "        ( x , y , w , h ) = detected[0]\n",
    "        crop_photo = photo [ y:y+h , x:x+w ]\n",
    "        return crop_photo"
   ]
  },
  {
   "cell_type": "code",
   "execution_count": 11,
   "metadata": {},
   "outputs": [
    {
     "name": "stdout",
     "output_type": "stream",
     "text": [
      "Enter your name here : Subodh\n"
     ]
    }
   ],
   "source": [
    "name = input(\"Enter your name here : \")"
   ]
  },
  {
   "cell_type": "code",
   "execution_count": 16,
   "metadata": {},
   "outputs": [],
   "source": [
    "directory = name\n",
    "parent_dir = \"C://Users//hp//Desktop//MLOPS//FaceRecognizationTransferLearning//Dataset//Training_dataset\"\n",
    "path = os.path.join(parent_dir, directory) \n",
    "os.mkdir(path) \n",
    "parent_dir = \"C://Users//hp//Desktop//MLOPS//FaceRecognizationTransferLearning//Dataset//test_dataset\"\n",
    "path = os.path.join(parent_dir, directory) \n",
    "os.mkdir(path)"
   ]
  },
  {
   "cell_type": "code",
   "execution_count": 23,
   "metadata": {},
   "outputs": [
    {
     "name": "stderr",
     "output_type": "stream",
     "text": [
      "F:\\Newfolder\\envs\\mytensor\\lib\\site-packages\\ipykernel_launcher.py:5: DeprecationWarning: elementwise comparison failed; this will raise an error in the future.\n",
      "  \"\"\"\n"
     ]
    }
   ],
   "source": [
    "cap = cv2.VideoCapture(0)\n",
    "i=0\n",
    "while True :\n",
    "    \n",
    "    status, photo = cap.read()\n",
    "    \n",
    "    if face_extractor (photo) is not None :\n",
    "        cphoto = face_extractor (photo)\n",
    "        i=int(i)+1\n",
    "        face = cv2.resize( cphoto , (200,200))\n",
    "        face = cv2.cvtColor(face, cv2.COLOR_BGR2GRAY)\n",
    "        \n",
    "        cv2.imwrite(\"C://Users//hp//Desktop//MLOPS//FaceRecognizationTransferLearning//Dataset//Training_dataset//\"+name+\"//\"+name+str(i)+\".jpg\" , face)\n",
    "\n",
    "        cv2.putText(face , str(i) , (100, 100) ,cv2.FONT_HERSHEY_SIMPLEX, 2 , [255,0,0],3)\n",
    "        cv2.putText(face , \"train set\" , (0, 30) ,cv2.FONT_HERSHEY_SIMPLEX, 0.7 , [255,0,0],3)\n",
    "        cv2.imshow(\"Face cropper\",face)\n",
    "        \n",
    "        \n",
    "    else:\n",
    "        print(\"Face not found\")\n",
    "        pass\n",
    "    \n",
    "    if cv2.waitKey(1) == 13 or i == 100: #13 is the Enter Key\n",
    "        break\n",
    "        \n",
    "cap.release()       \n",
    "cv2.destroyAllWindows()"
   ]
  },
  {
   "cell_type": "code",
   "execution_count": 24,
   "metadata": {},
   "outputs": [
    {
     "name": "stderr",
     "output_type": "stream",
     "text": [
      "F:\\Newfolder\\envs\\mytensor\\lib\\site-packages\\ipykernel_launcher.py:5: DeprecationWarning: elementwise comparison failed; this will raise an error in the future.\n",
      "  \"\"\"\n"
     ]
    },
    {
     "name": "stdout",
     "output_type": "stream",
     "text": [
      "Sample Collection Completed\n"
     ]
    }
   ],
   "source": [
    "cap = cv2.VideoCapture(0)\n",
    "i=0\n",
    "while True :\n",
    "    \n",
    "    status, photo = cap.read()\n",
    "    \n",
    "    if face_extractor (photo) is not None :\n",
    "        cphoto = face_extractor (photo)\n",
    "        i=int(i)+1\n",
    "        face = cv2.resize( cphoto , (200,200))\n",
    "        face = cv2.cvtColor(face, cv2.COLOR_BGR2GRAY)\n",
    "        \n",
    "        cv2.imwrite(\"C://Users//hp//Desktop//MLOPS//FaceRecognizationTransferLearning//Dataset//test_dataset//\"+name+\"//\"+name+str(i)+\".jpg\" , face)\n",
    "\n",
    "        cv2.putText(face , str(i) , (100, 100) ,cv2.FONT_HERSHEY_SIMPLEX, 2 , [255,0,0],3)\n",
    "        cv2.putText(face , \"test set\" , (0, 30) ,cv2.FONT_HERSHEY_SIMPLEX, 0.7 , [255,0,0],3)\n",
    "        cv2.imshow(\"Face cropper\",face)\n",
    "        \n",
    "    else:\n",
    "        print(\"Face not found\")\n",
    "        pass\n",
    "    \n",
    "    if cv2.waitKey(1) == 13 or i == 30: #13 is the Enter Key\n",
    "        break\n",
    "        \n",
    "cap.release()       \n",
    "cv2.destroyAllWindows()\n",
    "\n",
    "print(\"Sample Collection Completed\")"
   ]
  },
  {
   "cell_type": "code",
   "execution_count": null,
   "metadata": {},
   "outputs": [],
   "source": []
  }
 ],
 "metadata": {
  "kernelspec": {
   "display_name": "Python 3",
   "language": "python",
   "name": "python3"
  },
  "language_info": {
   "codemirror_mode": {
    "name": "ipython",
    "version": 3
   },
   "file_extension": ".py",
   "mimetype": "text/x-python",
   "name": "python",
   "nbconvert_exporter": "python",
   "pygments_lexer": "ipython3",
   "version": "3.7.0"
  }
 },
 "nbformat": 4,
 "nbformat_minor": 4
}
